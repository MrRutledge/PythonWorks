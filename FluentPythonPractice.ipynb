{
  "nbformat": 4,
  "nbformat_minor": 0,
  "metadata": {
    "colab": {
      "provenance": [],
      "authorship_tag": "ABX9TyOegtN7Wfekds1vZW7RqtS3",
      "include_colab_link": true
    },
    "kernelspec": {
      "name": "python3",
      "display_name": "Python 3"
    },
    "language_info": {
      "name": "python"
    }
  },
  "cells": [
    {
      "cell_type": "markdown",
      "metadata": {
        "id": "view-in-github",
        "colab_type": "text"
      },
      "source": [
        "<a href=\"https://colab.research.google.com/github/MrRutledge/PythonWorks/blob/main/FluentPythonPractice.ipynb\" target=\"_parent\"><img src=\"https://colab.research.google.com/assets/colab-badge.svg\" alt=\"Open In Colab\"/></a>"
      ]
    },
    {
      "cell_type": "code",
      "execution_count": 1,
      "metadata": {
        "id": "7kvlod2YjE1F"
      },
      "outputs": [],
      "source": [
        "import collections\n",
        "from typing import Any\n",
        "\n",
        "Card = collections.namedtuple('Card', ['rank','suit'])\n",
        "\n",
        "class FrenchDeck:\n",
        "    ranks = [str(n) for n in range(2, 11)] + list('JQKA')\n",
        "    suits = 'spades diamonds clubs hearts'.split()\n",
        "\n",
        "    def __init__(self):\n",
        "        self._cards = [Card(rank,suit) for suit in self.suits\n",
        "                                        for rank in self.ranks]\n",
        "\n",
        "    def __len__(self):\n",
        "        return len(self._cards)\n",
        "\n",
        "    def __getitem__(self, position):\n",
        "        return self._cards[position]"
      ]
    },
    {
      "cell_type": "code",
      "source": [
        "beer_card = Card('7', 'diamond')"
      ],
      "metadata": {
        "id": "Pgef7FsGjMns"
      },
      "execution_count": 2,
      "outputs": []
    },
    {
      "cell_type": "code",
      "source": [
        "beer_card"
      ],
      "metadata": {
        "colab": {
          "base_uri": "https://localhost:8080/"
        },
        "id": "aoivYx-djUEa",
        "outputId": "d56e4974-104d-4d49-c503-10eb488cb74e"
      },
      "execution_count": 3,
      "outputs": [
        {
          "output_type": "execute_result",
          "data": {
            "text/plain": [
              "Card(rank='7', suit='diamond')"
            ]
          },
          "metadata": {},
          "execution_count": 3
        }
      ]
    },
    {
      "cell_type": "code",
      "source": [
        "deck = FrenchDeck()"
      ],
      "metadata": {
        "id": "nU7dICisjWL9"
      },
      "execution_count": 4,
      "outputs": []
    },
    {
      "cell_type": "code",
      "source": [
        "len(deck)"
      ],
      "metadata": {
        "colab": {
          "base_uri": "https://localhost:8080/"
        },
        "id": "n7O9hrNSPvfw",
        "outputId": "010b07a8-df99-4580-cf1e-2ba1e838fc98"
      },
      "execution_count": 5,
      "outputs": [
        {
          "output_type": "execute_result",
          "data": {
            "text/plain": [
              "52"
            ]
          },
          "metadata": {},
          "execution_count": 5
        }
      ]
    },
    {
      "cell_type": "code",
      "source": [
        "deck[0]"
      ],
      "metadata": {
        "colab": {
          "base_uri": "https://localhost:8080/"
        },
        "id": "Qi0GG0yhP0tF",
        "outputId": "255294dd-050c-4ce0-81bc-b6d69f4d80d4"
      },
      "execution_count": 6,
      "outputs": [
        {
          "output_type": "execute_result",
          "data": {
            "text/plain": [
              "Card(rank='2', suit='spades')"
            ]
          },
          "metadata": {},
          "execution_count": 6
        }
      ]
    },
    {
      "cell_type": "code",
      "source": [
        "deck[-1]"
      ],
      "metadata": {
        "colab": {
          "base_uri": "https://localhost:8080/"
        },
        "id": "mOMu2U-DQSD3",
        "outputId": "69de817e-d441-482a-ef1b-b5fdc48de549"
      },
      "execution_count": 7,
      "outputs": [
        {
          "output_type": "execute_result",
          "data": {
            "text/plain": [
              "Card(rank='A', suit='hearts')"
            ]
          },
          "metadata": {},
          "execution_count": 7
        }
      ]
    },
    {
      "cell_type": "code",
      "source": [
        "deck[:3]"
      ],
      "metadata": {
        "colab": {
          "base_uri": "https://localhost:8080/"
        },
        "id": "zsWpomuSQbS5",
        "outputId": "e590346a-da38-43e8-ae8b-1fe8b14f400d"
      },
      "execution_count": 8,
      "outputs": [
        {
          "output_type": "execute_result",
          "data": {
            "text/plain": [
              "[Card(rank='2', suit='spades'),\n",
              " Card(rank='3', suit='spades'),\n",
              " Card(rank='4', suit='spades')]"
            ]
          },
          "metadata": {},
          "execution_count": 8
        }
      ]
    },
    {
      "cell_type": "code",
      "source": [
        "deck[12::13]"
      ],
      "metadata": {
        "colab": {
          "base_uri": "https://localhost:8080/"
        },
        "id": "ACekiT8herSR",
        "outputId": "57c9c49b-b5d0-4795-faeb-bc4b4876778a"
      },
      "execution_count": 9,
      "outputs": [
        {
          "output_type": "execute_result",
          "data": {
            "text/plain": [
              "[Card(rank='A', suit='spades'),\n",
              " Card(rank='A', suit='diamonds'),\n",
              " Card(rank='A', suit='clubs'),\n",
              " Card(rank='A', suit='hearts')]"
            ]
          },
          "metadata": {},
          "execution_count": 9
        }
      ]
    },
    {
      "cell_type": "code",
      "source": [
        "for card in deck[:2]: #doctest: +ELLIPSIS\n",
        "  print(card)"
      ],
      "metadata": {
        "colab": {
          "base_uri": "https://localhost:8080/"
        },
        "id": "wHRpibGFe2bz",
        "outputId": "f74d4a7b-1513-4fd8-e8d0-600e299e17e4"
      },
      "execution_count": 10,
      "outputs": [
        {
          "output_type": "stream",
          "name": "stdout",
          "text": [
            "Card(rank='2', suit='spades')\n",
            "Card(rank='3', suit='spades')\n"
          ]
        }
      ]
    },
    {
      "cell_type": "code",
      "source": [
        "suit_values = dict(spades=3, hearts=2, diamonds=1, clubs=0)"
      ],
      "metadata": {
        "id": "60jtBVTAfETZ"
      },
      "execution_count": 11,
      "outputs": []
    },
    {
      "cell_type": "code",
      "source": [
        "def spades_high(card):\n",
        "  rank_value = FrenchDeck.ranks.index(card.rank)\n",
        "  return rank_value * len(suit_values) + suit_values[card.suit]"
      ],
      "metadata": {
        "id": "IjWVaABKks2a"
      },
      "execution_count": 12,
      "outputs": []
    },
    {
      "cell_type": "markdown",
      "source": [
        "### Emulating Numeric Types\n",
        "\n"
      ],
      "metadata": {
        "id": "2AFoL2tyy6xE"
      }
    },
    {
      "cell_type": "code",
      "source": [
        "import math\n",
        "\n",
        "class Vector:\n",
        "  def __init__(self, x=0, y=0):\n",
        "    self.x =x\n",
        "    self.y= y\n",
        "  def __repr__(self):\n",
        "     return f'Vector({self.x!r}{self.y!r})'\n",
        "\n",
        "  def __abs__(self):\n",
        "     return math.hypot(self.x,self.y)\n",
        "\n",
        "  def __bool__(self):\n",
        "      return bool(abs(self))\n",
        "\n",
        "  def __add__(self, other):\n",
        "      x = self.x + other.x\n",
        "      y = self.y + other.y\n",
        "      return Vector(x,y)\n",
        "\n",
        "  def __mul__(self,scalar):\n",
        "      return Vector(self.x * scalar, self.y * scalar)\n"
      ],
      "metadata": {
        "id": "SPDtSc0vwpZ-"
      },
      "execution_count": 13,
      "outputs": []
    },
    {
      "cell_type": "code",
      "source": [
        "##"
      ],
      "metadata": {
        "id": "94uzNV602Nsf"
      },
      "execution_count": 14,
      "outputs": []
    },
    {
      "cell_type": "markdown",
      "source": [],
      "metadata": {
        "id": "A7BoTO6b2TeG"
      }
    }
  ]
}