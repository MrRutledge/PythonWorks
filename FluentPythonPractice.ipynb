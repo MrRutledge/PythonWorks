{
<<<<<<< HEAD
  "nbformat": 4,
  "nbformat_minor": 0,
  "metadata": {
    "colab": {
      "provenance": [],
      "authorship_tag": "ABX9TyNukR5hZKSTXJi6DhgLey3t",
      "include_colab_link": true
    },
    "kernelspec": {
      "name": "python3",
      "display_name": "Python 3"
    },
    "language_info": {
      "name": "python"
    }
  },
=======
>>>>>>> CardDeck
  "cells": [
    {
      "cell_type": "markdown",
      "metadata": {
        "colab_type": "text",
        "id": "view-in-github"
      },
      "source": [
        "<a href=\"https://colab.research.google.com/github/MrRutledge/PythonWorks/blob/main/FluentPythonPractice.ipynb\" target=\"_parent\"><img src=\"https://colab.research.google.com/assets/colab-badge.svg\" alt=\"Open In Colab\"/></a>"
      ]
    },
    {
      "cell_type": "code",
      "execution_count": null,
      "metadata": {
        "id": "7kvlod2YjE1F"
      },
      "outputs": [],
      "source": [
        "import collections\n",
        "from typing import Any\n",
        "\n",
        "Card = collections.namedtuple('Card', ['rank','suit'])\n",
        "\n",
        "class FrenchDeck:\n",
        "    ranks = [str(n) for n in range(2, 11)] + list('JQKA')\n",
        "    suits = 'spades diamonds clubs hearts'.split()\n",
        "\n",
        "    def __init__(self):\n",
        "        self._cards = [Card(rank,suit) for suit in self.suits\n",
        "                                        for rank in self.ranks]\n",
        "\n",
        "    def __len__(self):\n",
        "        return len(self._cards)\n",
        "\n",
        "    def __getitem__(self, position):\n",
        "        return self._cards[position]"
      ]
    },
    {
      "cell_type": "code",
      "execution_count": 2,
      "metadata": {
        "id": "Pgef7FsGjMns"
      },
<<<<<<< HEAD
      "execution_count": null,
      "outputs": []
=======
      "outputs": [],
      "source": [
        "beer_card = Card('7', 'diamond')"
      ]
>>>>>>> CardDeck
    },
    {
      "cell_type": "code",
      "execution_count": 3,
      "metadata": {
        "colab": {
          "base_uri": "https://localhost:8080/"
        },
        "id": "aoivYx-djUEa",
        "outputId": "d56e4974-104d-4d49-c503-10eb488cb74e"
      },
<<<<<<< HEAD
      "execution_count": null,
=======
>>>>>>> CardDeck
      "outputs": [
        {
          "data": {
            "text/plain": [
              "Card(rank='7', suit='diamond')"
            ]
          },
          "execution_count": 3,
          "metadata": {},
          "output_type": "execute_result"
        }
      ],
      "source": [
        "beer_card"
      ]
    },
    {
      "cell_type": "code",
      "execution_count": 4,
      "metadata": {
        "id": "nU7dICisjWL9"
      },
<<<<<<< HEAD
      "execution_count": null,
      "outputs": []
=======
      "outputs": [],
      "source": [
        "deck = FrenchDeck()"
      ]
>>>>>>> CardDeck
    },
    {
      "cell_type": "code",
      "execution_count": 5,
      "metadata": {
        "colab": {
          "base_uri": "https://localhost:8080/"
        },
        "id": "n7O9hrNSPvfw",
        "outputId": "010b07a8-df99-4580-cf1e-2ba1e838fc98"
      },
<<<<<<< HEAD
      "execution_count": null,
=======
>>>>>>> CardDeck
      "outputs": [
        {
          "data": {
            "text/plain": [
              "52"
            ]
          },
          "execution_count": 5,
          "metadata": {},
          "output_type": "execute_result"
        }
      ],
      "source": [
        "len(deck)"
      ]
    },
    {
      "cell_type": "code",
      "execution_count": 6,
      "metadata": {
        "colab": {
          "base_uri": "https://localhost:8080/"
        },
        "id": "Qi0GG0yhP0tF",
        "outputId": "255294dd-050c-4ce0-81bc-b6d69f4d80d4"
      },
<<<<<<< HEAD
      "execution_count": null,
=======
>>>>>>> CardDeck
      "outputs": [
        {
          "data": {
            "text/plain": [
              "Card(rank='2', suit='spades')"
            ]
          },
          "execution_count": 6,
          "metadata": {},
          "output_type": "execute_result"
        }
      ],
      "source": [
        "deck[0]"
      ]
    },
    {
      "cell_type": "code",
      "execution_count": 7,
      "metadata": {
        "colab": {
          "base_uri": "https://localhost:8080/"
        },
        "id": "mOMu2U-DQSD3",
        "outputId": "69de817e-d441-482a-ef1b-b5fdc48de549"
      },
<<<<<<< HEAD
      "execution_count": null,
=======
>>>>>>> CardDeck
      "outputs": [
        {
          "data": {
            "text/plain": [
              "Card(rank='A', suit='hearts')"
            ]
          },
          "execution_count": 7,
          "metadata": {},
          "output_type": "execute_result"
        }
      ],
      "source": [
        "deck[-1]"
      ]
    },
    {
      "cell_type": "code",
      "execution_count": 8,
      "metadata": {
        "colab": {
          "base_uri": "https://localhost:8080/"
        },
        "id": "zsWpomuSQbS5",
        "outputId": "e590346a-da38-43e8-ae8b-1fe8b14f400d"
      },
<<<<<<< HEAD
      "execution_count": null,
=======
>>>>>>> CardDeck
      "outputs": [
        {
          "data": {
            "text/plain": [
              "[Card(rank='2', suit='spades'),\n",
              " Card(rank='3', suit='spades'),\n",
              " Card(rank='4', suit='spades')]"
            ]
          },
          "execution_count": 8,
          "metadata": {},
          "output_type": "execute_result"
        }
      ],
      "source": [
        "deck[:3]"
      ]
    },
    {
      "cell_type": "code",
      "execution_count": 9,
      "metadata": {
        "colab": {
          "base_uri": "https://localhost:8080/"
        },
        "id": "ACekiT8herSR",
        "outputId": "57c9c49b-b5d0-4795-faeb-bc4b4876778a"
      },
<<<<<<< HEAD
      "execution_count": null,
=======
>>>>>>> CardDeck
      "outputs": [
        {
          "data": {
            "text/plain": [
              "[Card(rank='A', suit='spades'),\n",
              " Card(rank='A', suit='diamonds'),\n",
              " Card(rank='A', suit='clubs'),\n",
              " Card(rank='A', suit='hearts')]"
            ]
          },
          "execution_count": 9,
          "metadata": {},
          "output_type": "execute_result"
        }
      ],
      "source": [
        "deck[12::13]"
      ]
    },
    {
      "cell_type": "code",
      "execution_count": 10,
      "metadata": {
        "colab": {
          "base_uri": "https://localhost:8080/"
        },
        "id": "wHRpibGFe2bz",
        "outputId": "f74d4a7b-1513-4fd8-e8d0-600e299e17e4"
      },
<<<<<<< HEAD
      "execution_count": null,
=======
>>>>>>> CardDeck
      "outputs": [
        {
          "name": "stdout",
          "output_type": "stream",
          "text": [
            "Card(rank='2', suit='spades')\n",
            "Card(rank='3', suit='spades')\n"
          ]
        }
      ],
      "source": [
        "for card in deck[:2]: #doctest: +ELLIPSIS\n",
        "  print(card)"
      ]
    },
    {
      "cell_type": "code",
      "execution_count": 11,
      "metadata": {
        "id": "60jtBVTAfETZ"
      },
<<<<<<< HEAD
      "execution_count": null,
      "outputs": []
=======
      "outputs": [],
      "source": [
        "suit_values = dict(spades=3, hearts=2, diamonds=1, clubs=0)"
      ]
>>>>>>> CardDeck
    },
    {
      "cell_type": "code",
      "execution_count": 12,
      "metadata": {
        "id": "IjWVaABKks2a"
      },
      "outputs": [],
      "source": [
        "def spades_high(card):\n",
        "  rank_value = FrenchDeck.ranks.index(card.rank)\n",
        "  return rank_value * len(suit_values) + suit_values[card.suit]"
<<<<<<< HEAD
      ],
      "metadata": {
        "id": "IjWVaABKks2a"
      },
      "execution_count": null,
      "outputs": []
=======
      ]
>>>>>>> CardDeck
    },
    {
      "cell_type": "markdown",
      "metadata": {
        "id": "2AFoL2tyy6xE"
      },
      "source": [
        "### Emulating Numeric Types\n",
        "\n"
      ]
    },
    {
      "cell_type": "code",
      "execution_count": 13,
      "metadata": {
        "id": "SPDtSc0vwpZ-"
      },
      "outputs": [],
      "source": [
        "import math\n",
        "\n",
        "class Vector:\n",
        "  def __init__(self, x=0, y=0):\n",
        "    self.x =x\n",
        "    self.y= y\n",
        "  def __repr__(self):\n",
        "     return f'Vector({self.x!r}{self.y!r})'\n",
        "\n",
        "  def __abs__(self):\n",
        "     return math.hypot(self.x,self.y)\n",
        "\n",
        "  def __bool__(self):\n",
        "      return bool(abs(self))\n",
        "\n",
        "  def __add__(self, other):\n",
        "      x = self.x + other.x\n",
        "      y = self.y + other.y\n",
        "      return Vector(x,y)\n",
        "\n",
        "  def __mul__(self,scalar):\n",
        "      return Vector(self.x * scalar, self.y * scalar)\n"
      ]
    },
    {
      "cell_type": "code",
      "execution_count": 14,
      "metadata": {
        "id": "94uzNV602Nsf"
      },
<<<<<<< HEAD
      "execution_count": null,
      "outputs": []
=======
      "outputs": [],
      "source": [
        "##"
      ]
>>>>>>> CardDeck
    },
    {
      "cell_type": "code",
      "execution_count": 1,
      "metadata": {},
      "outputs": [
        {
          "data": {
            "text/plain": [
              "True"
            ]
          },
          "execution_count": 1,
          "metadata": {},
          "output_type": "execute_result"
        }
      ],
      "source": [
        "a = (10, 'alpha', [1,2])\n",
        "b = (10, 'alpha', [1,2])\n",
        "a == b"
      ]
    },
    {
      "cell_type": "code",
      "execution_count": 3,
      "metadata": {},
      "outputs": [
        {
          "data": {
            "text/plain": [
              "False"
            ]
          },
          "execution_count": 3,
          "metadata": {},
          "output_type": "execute_result"
        }
      ],
<<<<<<< HEAD
      "metadata": {
        "id": "94uzNV602Nsf"
      },
      "execution_count": null,
      "outputs": []
=======
      "source": [
        "b[-1].append(99)\n",
        "b== a"
      ]
>>>>>>> CardDeck
    },
    {
      "cell_type": "code",
      "execution_count": 4,
      "metadata": {},
      "outputs": [
        {
          "data": {
            "text/plain": [
              "(2, 4)"
            ]
          },
          "execution_count": 4,
          "metadata": {},
          "output_type": "execute_result"
        }
      ],
      "source": [
        "divmod(20,8)"
      ]
    },
    {
      "cell_type": "code",
      "execution_count": 5,
      "metadata": {},
      "outputs": [
        {
          "data": {
            "text/plain": [
              "'Miniconda3-py39_4.10.3-Linux-x86_64.sh'"
            ]
          },
          "execution_count": 5,
          "metadata": {},
          "output_type": "execute_result"
        }
      ],
      "source": [
        "import os\n",
        "_, filename = os.path.split('/home/mrrutledge/Miniconda3-py39_4.10.3-Linux-x86_64.sh')\n",
        "filename"
      ]
    },
    {
      "cell_type": "code",
      "execution_count": 7,
      "metadata": {},
      "outputs": [
        {
          "data": {
            "text/plain": [
              "(0, 1, [2, 3, 4])"
            ]
          },
          "execution_count": 7,
          "metadata": {},
          "output_type": "execute_result"
        }
      ],
      "source": [
        "a, b, *rest = range(5)\n",
        "a, b, rest"
      ]
    },
    {
      "cell_type": "code",
      "execution_count": 9,
      "metadata": {},
      "outputs": [
        {
          "data": {
            "text/plain": [
              "(0, 1, [2])"
            ]
          },
          "execution_count": 9,
          "metadata": {},
          "output_type": "execute_result"
        }
      ],
      "source": [
        "a, b, *rest = range(3)\n",
        "a, b, rest"
      ]
    },
    {
      "cell_type": "code",
      "execution_count": null,
      "metadata": {},
      "outputs": [],
      "source": []
    },
    {
      "cell_type": "markdown",
      "metadata": {
        "id": "A7BoTO6b2TeG"
      },
      "source": [
        "## An Array of Sequences"
      ]
    },
    {
      "cell_type": "code",
      "execution_count": null,
<<<<<<< HEAD
      "outputs": []
    },
    {
      "cell_type": "code",
      "source": [
        "List"
      ],
      "metadata": {
        "id": "-sxl9ad4fA37"
      },
      "execution_count": null,
      "outputs": []
=======
      "metadata": {
        "id": "19FKcr-cnlSO"
      },
      "outputs": [],
      "source": [
        "List"
      ]
>>>>>>> CardDeck
    }
  ],
  "metadata": {
    "colab": {
      "authorship_tag": "ABX9TyN2Bmxe0Rv/I6hMKbFp/6ny",
      "include_colab_link": true,
      "provenance": []
    },
    "kernelspec": {
      "display_name": "Python 3",
      "name": "python3"
    },
    "language_info": {
      "codemirror_mode": {
        "name": "ipython",
        "version": 3
      },
      "file_extension": ".py",
      "mimetype": "text/x-python",
      "name": "python",
      "nbconvert_exporter": "python",
      "pygments_lexer": "ipython3",
      "version": "3.9.5"
    }
  },
  "nbformat": 4,
  "nbformat_minor": 0
}
